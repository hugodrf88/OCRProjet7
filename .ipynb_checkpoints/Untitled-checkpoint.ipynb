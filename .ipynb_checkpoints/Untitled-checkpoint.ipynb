{
 "cells": [
  {
   "cell_type": "code",
   "execution_count": 20,
   "id": "0f1a2b5c",
   "metadata": {
    "scrolled": true
   },
   "outputs": [
    {
     "ename": "ModuleNotFoundError",
     "evalue": "No module named 'evidently.model_profile'",
     "output_type": "error",
     "traceback": [
      "\u001b[1;31m---------------------------------------------------------------------------\u001b[0m",
      "\u001b[1;31mModuleNotFoundError\u001b[0m                       Traceback (most recent call last)",
      "Input \u001b[1;32mIn [20]\u001b[0m, in \u001b[0;36m<cell line: 7>\u001b[1;34m()\u001b[0m\n\u001b[0;32m      5\u001b[0m \u001b[38;5;28;01mimport\u001b[39;00m \u001b[38;5;21;01mjoblib\u001b[39;00m\n\u001b[0;32m      6\u001b[0m \u001b[38;5;28;01mfrom\u001b[39;00m \u001b[38;5;21;01mevidently\u001b[39;00m\u001b[38;5;21;01m.\u001b[39;00m\u001b[38;5;21;01mtest_preset\u001b[39;00m \u001b[38;5;28;01mimport\u001b[39;00m DataDriftTestPreset\n\u001b[1;32m----> 7\u001b[0m \u001b[38;5;28;01mfrom\u001b[39;00m \u001b[38;5;21;01mevidently\u001b[39;00m\u001b[38;5;21;01m.\u001b[39;00m\u001b[38;5;21;01mmodel_profile\u001b[39;00m \u001b[38;5;28;01mimport\u001b[39;00m Profile\n\u001b[0;32m     12\u001b[0m loaded_model\u001b[38;5;241m=\u001b[39mjoblib\u001b[38;5;241m.\u001b[39mload(\u001b[38;5;124m\"\u001b[39m\u001b[38;5;124m./models/best_model.pkl\u001b[39m\u001b[38;5;124m\"\u001b[39m)\n\u001b[0;32m     14\u001b[0m train\u001b[38;5;241m=\u001b[39mpd\u001b[38;5;241m.\u001b[39mread_csv(\u001b[38;5;124m\"\u001b[39m\u001b[38;5;124m./data/application_train.csv\u001b[39m\u001b[38;5;124m\"\u001b[39m)\n",
      "\u001b[1;31mModuleNotFoundError\u001b[0m: No module named 'evidently.model_profile'"
     ]
    }
   ],
   "source": [
    "#from evidently.dashboard import Dashboard\n",
    "#from evidently.tabs import DataDriftTab\n",
    "import evidently\n",
    "import pandas as pd\n",
    "import joblib\n",
    "from evidently.test_preset import DataDriftTestPreset\n",
    "from evidently.model_profile import Profile\n",
    "\n",
    "\n",
    "\n",
    "\n",
    "loaded_model=joblib.load(\"./models/best_model.pkl\")\n",
    "\n",
    "train=pd.read_csv(\"./data/application_train.csv\")\n",
    "test=pd.read_csv(\"./data/application_test.csv\")\n",
    "train=train.drop(\"SK_ID_CURR\",axis=1)\n",
    "test=test.drop(\"SK_ID_CURR\",axis=1)\n",
    "\n",
    "\n",
    "X,y=train.drop(\"TARGET\",axis=1),train[\"TARGET\"]\n",
    "X_drift=test\n",
    "y_drift=loaded_model.predict(X_drift)\n",
    "\n",
    "\n",
    "\n",
    "\n",
    "\n",
    "# Créer un profil de modèle avec Evidently\n",
    "model_profile = Profile(model=loaded_model, \n",
    "                        data=X, \n",
    "                        target=y, \n",
    "                        task='classification')\n",
    "\n",
    "# Définir les paramètres de test de dérive de données\n",
    "data_drift_preset = DataDriftTestPreset()\n",
    "data_drift_preset.calculate(model_profile, X_drift, y_drift)\n",
    "\n",
    "# Créer un rapport Evidently\n",
    "data_drift_tab = DataDriftTab(test_result=data_drift_preset.test)\n",
    "sections = [data_drift_tab]\n",
    "dashboard = Dashboard(tabs=sections, title='Data Drift')\n",
    "report = dashboard.report()\n",
    "\n",
    "# Générer un tableau HTML\n",
    "report.save('drift_report.html')"
   ]
  },
  {
   "cell_type": "code",
   "execution_count": 22,
   "id": "c9621669",
   "metadata": {},
   "outputs": [
    {
     "name": "stderr",
     "output_type": "stream",
     "text": [
      "C:\\Users\\hugo\\anaconda3\\lib\\site-packages\\evidently\\utils\\data_operations.py:24: FutureWarning: elementwise comparison failed; returning scalar instead, but in the future will perform elementwise comparison\n",
      "  date_column = column_mapping.datetime if column_mapping.datetime in dataset else None\n",
      "C:\\Users\\hugo\\anaconda3\\lib\\site-packages\\evidently\\utils\\data_operations.py:30: FutureWarning: elementwise comparison failed; returning scalar instead, but in the future will perform elementwise comparison\n",
      "  target_column = column_mapping.target if column_mapping.target in dataset else None\n",
      "C:\\Users\\hugo\\anaconda3\\lib\\site-packages\\evidently\\utils\\data_operations.py:126: FutureWarning: elementwise comparison failed; returning scalar instead, but in the future will perform elementwise comparison\n",
      "  if column_mapping.target is not None and column_mapping.target in dataset:\n",
      "C:\\Users\\hugo\\anaconda3\\lib\\site-packages\\evidently\\utils\\data_operations.py:132: FutureWarning: elementwise comparison failed; returning scalar instead, but in the future will perform elementwise comparison\n",
      "  and column_mapping.prediction in dataset\n",
      "C:\\Users\\hugo\\anaconda3\\lib\\site-packages\\evidently\\utils\\data_operations.py:43: FutureWarning: elementwise comparison failed; returning scalar instead, but in the future will perform elementwise comparison\n",
      "  if column_mapping.prediction in dataset:\n"
     ]
    },
    {
     "ename": "AttributeError",
     "evalue": "'numpy.ndarray' object has no attribute 'select_dtypes'",
     "output_type": "error",
     "traceback": [
      "\u001b[1;31m---------------------------------------------------------------------------\u001b[0m",
      "\u001b[1;31mAttributeError\u001b[0m                            Traceback (most recent call last)",
      "Input \u001b[1;32mIn [22]\u001b[0m, in \u001b[0;36m<cell line: 23>\u001b[1;34m()\u001b[0m\n\u001b[0;32m     16\u001b[0m \u001b[38;5;28;01mfrom\u001b[39;00m \u001b[38;5;21;01mevidently\u001b[39;00m\u001b[38;5;21;01m.\u001b[39;00m\u001b[38;5;21;01mtest_preset\u001b[39;00m \u001b[38;5;28;01mimport\u001b[39;00m BinaryClassificationTestPreset\n\u001b[0;32m     19\u001b[0m label_binary_classification_performance \u001b[38;5;241m=\u001b[39m TestSuite(tests\u001b[38;5;241m=\u001b[39m[\n\u001b[0;32m     20\u001b[0m     BinaryClassificationTestPreset(),\n\u001b[0;32m     21\u001b[0m ])\n\u001b[1;32m---> 23\u001b[0m \u001b[43mlabel_binary_classification_performance\u001b[49m\u001b[38;5;241;43m.\u001b[39;49m\u001b[43mrun\u001b[49m\u001b[43m(\u001b[49m\u001b[43mreference_data\u001b[49m\u001b[38;5;241;43m=\u001b[39;49m\u001b[43mloaded_model\u001b[49m\u001b[38;5;241;43m.\u001b[39;49m\u001b[43mpredict\u001b[49m\u001b[43m(\u001b[49m\u001b[43mX\u001b[49m\u001b[43m)\u001b[49m\u001b[43m,\u001b[49m\u001b[43m \u001b[49m\u001b[43mcurrent_data\u001b[49m\u001b[38;5;241;43m=\u001b[39;49m\u001b[43mloaded_model\u001b[49m\u001b[38;5;241;43m.\u001b[39;49m\u001b[43mpredict\u001b[49m\u001b[43m(\u001b[49m\u001b[43mX_drift\u001b[49m\u001b[43m)\u001b[49m\u001b[43m)\u001b[49m\n\u001b[0;32m     24\u001b[0m label_binary_classification_performance\n",
      "File \u001b[1;32m~\\anaconda3\\lib\\site-packages\\evidently\\test_suite\\test_suite.py:81\u001b[0m, in \u001b[0;36mTestSuite.run\u001b[1;34m(self, reference_data, current_data, column_mapping)\u001b[0m\n\u001b[0;32m     78\u001b[0m \u001b[38;5;28;01mif\u001b[39;00m column_mapping \u001b[38;5;129;01mis\u001b[39;00m \u001b[38;5;28;01mNone\u001b[39;00m:\n\u001b[0;32m     79\u001b[0m     column_mapping \u001b[38;5;241m=\u001b[39m ColumnMapping()\n\u001b[1;32m---> 81\u001b[0m \u001b[38;5;28mself\u001b[39m\u001b[38;5;241m.\u001b[39m_columns_info \u001b[38;5;241m=\u001b[39m \u001b[43mprocess_columns\u001b[49m\u001b[43m(\u001b[49m\u001b[43mcurrent_data\u001b[49m\u001b[43m,\u001b[49m\u001b[43m \u001b[49m\u001b[43mcolumn_mapping\u001b[49m\u001b[43m)\u001b[49m\n\u001b[0;32m     82\u001b[0m data_definition \u001b[38;5;241m=\u001b[39m create_data_definition(reference_data, current_data, column_mapping)\n\u001b[0;32m     83\u001b[0m data \u001b[38;5;241m=\u001b[39m InputData(reference_data, current_data, \u001b[38;5;28;01mNone\u001b[39;00m, \u001b[38;5;28;01mNone\u001b[39;00m, column_mapping, data_definition)\n",
      "File \u001b[1;32m~\\anaconda3\\lib\\site-packages\\evidently\\utils\\data_operations.py:65\u001b[0m, in \u001b[0;36mprocess_columns\u001b[1;34m(dataset, column_mapping)\u001b[0m\n\u001b[0;32m     58\u001b[0m text_feature_names_set \u001b[38;5;241m=\u001b[39m \u001b[38;5;28mset\u001b[39m(text_feature_names \u001b[38;5;129;01mor\u001b[39;00m [])\n\u001b[0;32m     60\u001b[0m \u001b[38;5;28;01mif\u001b[39;00m num_feature_names \u001b[38;5;129;01mis\u001b[39;00m \u001b[38;5;28;01mNone\u001b[39;00m:\n\u001b[0;32m     61\u001b[0m     \u001b[38;5;66;03m# try to guess about numeric features in the dataset\u001b[39;00m\n\u001b[0;32m     62\u001b[0m     \u001b[38;5;66;03m# ignore prediction, target, index and explicitly specified category columns and columns with text\u001b[39;00m\n\u001b[0;32m     63\u001b[0m     num_feature_names \u001b[38;5;241m=\u001b[39m \u001b[38;5;28msorted\u001b[39m(\n\u001b[0;32m     64\u001b[0m         \u001b[38;5;28mlist\u001b[39m(\n\u001b[1;32m---> 65\u001b[0m             \u001b[38;5;28mset\u001b[39m(\u001b[43mdataset\u001b[49m\u001b[38;5;241;43m.\u001b[39;49m\u001b[43mselect_dtypes\u001b[49m([np\u001b[38;5;241m.\u001b[39mnumber])\u001b[38;5;241m.\u001b[39mcolumns)\n\u001b[0;32m     66\u001b[0m             \u001b[38;5;241m-\u001b[39m utility_columns_set\n\u001b[0;32m     67\u001b[0m             \u001b[38;5;241m-\u001b[39m cat_feature_names_set\n\u001b[0;32m     68\u001b[0m             \u001b[38;5;241m-\u001b[39m text_feature_names_set\n\u001b[0;32m     69\u001b[0m         )\n\u001b[0;32m     70\u001b[0m     )\n\u001b[0;32m     72\u001b[0m \u001b[38;5;28;01melse\u001b[39;00m:\n\u001b[0;32m     73\u001b[0m     num_feature_names \u001b[38;5;241m=\u001b[39m [col \u001b[38;5;28;01mfor\u001b[39;00m col \u001b[38;5;129;01min\u001b[39;00m num_feature_names \u001b[38;5;28;01mif\u001b[39;00m col \u001b[38;5;129;01min\u001b[39;00m dataset\u001b[38;5;241m.\u001b[39mcolumns]\n",
      "\u001b[1;31mAttributeError\u001b[0m: 'numpy.ndarray' object has no attribute 'select_dtypes'"
     ]
    }
   ],
   "source": [
    "import pandas as pd\n",
    "import numpy as np\n",
    "\n",
    "from sklearn import datasets, ensemble, model_selection\n",
    "\n",
    "from evidently import ColumnMapping\n",
    "from evidently.test_suite import TestSuite\n",
    "\n",
    "from evidently.test_preset import NoTargetPerformanceTestPreset\n",
    "from evidently.test_preset import DataQualityTestPreset\n",
    "from evidently.test_preset import DataStabilityTestPreset\n",
    "from evidently.test_preset import DataDriftTestPreset\n",
    "from evidently.test_preset import RegressionTestPreset\n",
    "from evidently.test_preset import MulticlassClassificationTestPreset\n",
    "from evidently.test_preset import BinaryClassificationTopKTestPreset\n",
    "from evidently.test_preset import BinaryClassificationTestPreset\n",
    "\n",
    "\n",
    "label_binary_classification_performance = TestSuite(tests=[\n",
    "    BinaryClassificationTestPreset(),\n",
    "])\n",
    "\n",
    "label_binary_classification_performance.run(reference_data=loaded_model.predict(X), current_data=loaded_model.predict(X_drift))\n",
    "label_binary_classification_performance\n",
    "\n"
   ]
  },
  {
   "cell_type": "code",
   "execution_count": 14,
   "id": "ecfbd922",
   "metadata": {},
   "outputs": [],
   "source": [
    "from sklearn.impute import SimpleImputer\n",
    "\n",
    "\n",
    "def fill_cat(df, most_frequent=False):\n",
    "    # Copie du DataFrame pour éviter toute modification de l'original\n",
    "    df_tmp = df.copy()\n",
    "    \n",
    "    # Sélection des colonnes catégorielles dans le DataFrame\n",
    "    # et stockage dans une liste\n",
    "    cat_cols = [col for col in df.columns if df[col].dtype == 'object']\n",
    "\n",
    "    # Remplissage des valeurs manquantes dans chaque colonne catégorielle\n",
    "    # en utilisant la stratégie \"most_frequent\" de SimpleImputer\n",
    "    if most_frequent: \n",
    "        imputer = SimpleImputer(strategy='most_frequent')\n",
    "        # Application de la méthode fit_transform de SimpleImputer \n",
    "        # pour remplacer les valeurs manquantes par la valeur la plus fréquente\n",
    "        df_tmp[cat_cols] = imputer.fit_transform(df_tmp[cat_cols])\n",
    "    # Sinon, remplir les valeurs manquantes dans chaque colonne catégorielle \n",
    "    # avec la chaîne \"Other\"\n",
    "    else:\n",
    "        df_tmp[cat_cols] = df_tmp[cat_cols].fillna(\"Other\")\n",
    "\n",
    "    # Retourne les valeurs du DataFrame rempli\n",
    "    return df_tmp.values\n",
    "\n",
    "\n",
    "def fill_num(df, strategy=\"median\"):\n",
    "    \"\"\"\n",
    "    Remplit les valeurs manquantes dans les colonnes numériques d'un DataFrame avec une stratégie donnée.\n",
    "\n",
    "    Args:\n",
    "        df (pandas.DataFrame): DataFrame contenant les colonnes numériques à remplir.\n",
    "        strategy (str): Stratégie à utiliser pour remplir les valeurs manquantes. Les options sont \"mean\",\n",
    "            \"median\", \"most_frequent\" et \"constant\". La valeur par défaut est \"median\".\n",
    "\n",
    "    Returns:\n",
    "        numpy.ndarray: Un tableau NumPy contenant les colonnes numériques avec les valeurs manquantes remplies.\n",
    "\n",
    "    \"\"\"\n",
    "    # Copier le DataFrame d'entrée pour éviter de modifier l'original\n",
    "    df_tmp = df.copy()\n",
    "\n",
    "    # Créer un objet SimpleImputer avec la stratégie spécifiée\n",
    "    imputer = SimpleImputer(strategy=strategy)\n",
    "\n",
    "    # Sélectionner les colonnes numériques dans le DataFrame\n",
    "    cols = [col for col in df.columns if df[col].dtype == \"float64\"]\n",
    "\n",
    "    # Remplacer les valeurs manquantes dans chaque colonne numérique\n",
    "    df_tmp[cols] = imputer.fit_transform(df_tmp[cols])\n",
    "\n",
    "    # Retourner les colonnes numériques avec les valeurs manquantes remplies sous forme de tableau NumPy\n",
    "    return df_tmp.values"
   ]
  }
 ],
 "metadata": {
  "kernelspec": {
   "display_name": "Python 3 (ipykernel)",
   "language": "python",
   "name": "python3"
  },
  "language_info": {
   "codemirror_mode": {
    "name": "ipython",
    "version": 3
   },
   "file_extension": ".py",
   "mimetype": "text/x-python",
   "name": "python",
   "nbconvert_exporter": "python",
   "pygments_lexer": "ipython3",
   "version": "3.10.9"
  },
  "varInspector": {
   "cols": {
    "lenName": 16,
    "lenType": 16,
    "lenVar": 40
   },
   "kernels_config": {
    "python": {
     "delete_cmd_postfix": "",
     "delete_cmd_prefix": "del ",
     "library": "var_list.py",
     "varRefreshCmd": "print(var_dic_list())"
    },
    "r": {
     "delete_cmd_postfix": ") ",
     "delete_cmd_prefix": "rm(",
     "library": "var_list.r",
     "varRefreshCmd": "cat(var_dic_list()) "
    }
   },
   "types_to_exclude": [
    "module",
    "function",
    "builtin_function_or_method",
    "instance",
    "_Feature"
   ],
   "window_display": false
  }
 },
 "nbformat": 4,
 "nbformat_minor": 5
}
